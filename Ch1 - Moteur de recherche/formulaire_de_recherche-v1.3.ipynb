{
 "cells": [
  {
   "cell_type": "markdown",
   "metadata": {
    "deletable": false,
    "slideshow": {
     "slide_type": "slide"
    }
   },
   "source": [
    "# Qu'est-ce qu'un formulaire de recherche ?"
   ]
  },
  {
   "cell_type": "markdown",
   "metadata": {
    "deletable": false,
    "slideshow": {
     "slide_type": "subslide"
    }
   },
   "source": [
    "On considère le programme suivant :"
   ]
  },
  {
   "cell_type": "code",
   "execution_count": null,
   "metadata": {
    "slideshow": {
     "slide_type": "fragment"
    }
   },
   "outputs": [],
   "source": [
    "# Exécuter cette cellule\n",
    "def formulaire_recherche():\n",
    "    recherche = input(\"Que recherchez-vous ?\") # Affectation de variable\n",
    "    print(\"Vous cherchez : \", recherche) # Affichage"
   ]
  },
  {
   "cell_type": "markdown",
   "metadata": {
    "slideshow": {
     "slide_type": "subslide"
    }
   },
   "source": [
    "**Q1.a)** Tester ce programme en écrivant l'instruction dans la celulle ci-dessous : \n",
    "```python\n",
    "formulaire_recherche()\n",
    "```"
   ]
  },
  {
   "cell_type": "code",
   "execution_count": null,
   "metadata": {
    "slideshow": {
     "slide_type": "fragment"
    }
   },
   "outputs": [],
   "source": [
    "# Tester le programme\n",
    "# Exécuter cette cellule\n",
    "formulaire_recherche() # Appel de la fonction"
   ]
  },
  {
   "cell_type": "markdown",
   "metadata": {
    "slideshow": {
     "slide_type": "subslide"
    }
   },
   "source": [
    "**Q1.b)** Donner une description des mots clés ``def``, ``input`` et ``print`` sur votre fiche de cours."
   ]
  },
  {
   "cell_type": "markdown",
   "metadata": {
    "slideshow": {
     "slide_type": "slide"
    }
   },
   "source": [
    "**Q2.a)** Modifier le programme en écrivant :\n",
    "\n",
    "```python\n",
    "print(\"Vous cherchez \" + recherche)\n",
    "```\n",
    "\n",
    "à la place de l'instruction : \n",
    "\n",
    "```python\n",
    "print(\"Vous cherchez : \", recherche)\n",
    "```"
   ]
  },
  {
   "cell_type": "markdown",
   "metadata": {
    "slideshow": {
     "slide_type": "subslide"
    }
   },
   "source": [
    "**Q2.b)** Tester le nouveau programme puis puis donner la différence entre ces deux instructions sur votre fiche de cours."
   ]
  },
  {
   "cell_type": "code",
   "execution_count": null,
   "metadata": {
    "slideshow": {
     "slide_type": "fragment"
    }
   },
   "outputs": [],
   "source": [
    "# Programme à modifier\n",
    "# Exécuter la cellule après modification\n",
    "def formulaire_recherche():\n",
    "    recherche = input(\"Que recherchez-vous ?\")\n",
    "    print(\"Vous cherchez : \", recherche)"
   ]
  },
  {
   "cell_type": "code",
   "execution_count": null,
   "metadata": {
    "slideshow": {
     "slide_type": "fragment"
    }
   },
   "outputs": [],
   "source": [
    "# Tester le programme en appelant la fonction modifiée\n",
    "# Exécuter la cellule après avoir appelé la fonction\n"
   ]
  },
  {
   "cell_type": "markdown",
   "metadata": {
    "slideshow": {
     "slide_type": "slide"
    }
   },
   "source": [
    "**Q3.a)** Ajouter à la dernière ligne de votre programme l'instruction : \n",
    "\n",
    "```python\n",
    "mots = recherche.split(\" \")\n",
    "print(\"Les mots-clés sont : \", mots)\n",
    "```"
   ]
  },
  {
   "cell_type": "code",
   "execution_count": null,
   "metadata": {
    "slideshow": {
     "slide_type": "fragment"
    }
   },
   "outputs": [],
   "source": [
    "# Programme à modifier\n",
    "# Exécuter la cellule après modification\n",
    "def formulaire_recherche():\n",
    "    recherche = input(\"Que recherchez-vous ?\")\n",
    "    print(\"Vous cherchez : \", recherche)"
   ]
  },
  {
   "cell_type": "markdown",
   "metadata": {
    "slideshow": {
     "slide_type": "subslide"
    }
   },
   "source": [
    "**Q3.b)** Tester le programme en insérant la recherche ``moteur de recherche`` puis donner la signification de l'instruction ``recherche.split(\" \")`` sur votre fiche de cours."
   ]
  },
  {
   "cell_type": "code",
   "execution_count": null,
   "metadata": {
    "slideshow": {
     "slide_type": "fragment"
    }
   },
   "outputs": [],
   "source": [
    "# Tester le programme en appelant la fonction modifiée\n",
    "# Exécuter la cellule après avoir appelé la fonction\n"
   ]
  },
  {
   "cell_type": "markdown",
   "metadata": {
    "slideshow": {
     "slide_type": "slide"
    }
   },
   "source": [
    "CHENE Teddy - Lycée Paul Gauguin, ressource éducative libre distribuée sous  \n",
    "[Licence Creative Commons Attribution - Pas d’Utilisation Commerciale - Partage dans les Mêmes Conditions 4.0 International](http://creativecommons.org/licenses/by-nc-sa/4.0/) ![Licence Creative Commons](https://i.creativecommons.org/l/by-nc-sa/4.0/88x31.png)"
   ]
  }
 ],
 "metadata": {
  "celltoolbar": "Aucun(e)",
  "kernelspec": {
   "display_name": "Python 3",
   "language": "python",
   "name": "python3"
  },
  "language_info": {
   "codemirror_mode": {
    "name": "ipython",
    "version": 3
   },
   "file_extension": ".py",
   "mimetype": "text/x-python",
   "name": "python",
   "nbconvert_exporter": "python",
   "pygments_lexer": "ipython3",
   "version": "3.8.5"
  },
  "rise": {
   "scroll": true
  }
 },
 "nbformat": 4,
 "nbformat_minor": 2
}
